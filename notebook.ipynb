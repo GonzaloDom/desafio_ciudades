{
 "cells": [
  {
   "cell_type": "code",
   "execution_count": 1,
   "id": "a5efb7d2-20e2-4e12-931d-35f6eff394b6",
   "metadata": {},
   "outputs": [
    {
     "name": "stderr",
     "output_type": "stream",
     "text": [
      "/Users/g0d02rm/.pyenv/versions/3.6.8/envs/element-py3/lib/python3.6/site-packages/pandas/compat/__init__.py:120: UserWarning: Could not import the lzma module. Your installed Python is incomplete. Attempting to use lzma compression will result in a RuntimeError.\n",
      "  warnings.warn(msg)\n"
     ]
    }
   ],
   "source": [
    "import pandas"
   ]
  },
  {
   "cell_type": "code",
   "execution_count": 3,
   "id": "1ae3a21d-c400-4c1f-a3c7-08d5bc854bdd",
   "metadata": {},
   "outputs": [
    {
     "name": "stderr",
     "output_type": "stream",
     "text": [
      "/Users/g0d02rm/.pyenv/versions/3.6.8/envs/element-py3/lib/python3.6/site-packages/IPython/core/interactiveshell.py:3072: DtypeWarning: Columns (3) have mixed types.Specify dtype option on import or set low_memory=False.\n",
      "  interactivity=interactivity, compiler=compiler, result=result)\n"
     ]
    }
   ],
   "source": [
    "worldcitiespop = pandas.read_csv('worldcitiespop.csv', encoding = \"ISO-8859-1\")"
   ]
  },
  {
   "cell_type": "code",
   "execution_count": 4,
   "id": "c53a94f0-ec60-4ffd-a81e-9ee937682b1f",
   "metadata": {},
   "outputs": [
    {
     "data": {
      "text/html": [
       "<div>\n",
       "<style scoped>\n",
       "    .dataframe tbody tr th:only-of-type {\n",
       "        vertical-align: middle;\n",
       "    }\n",
       "\n",
       "    .dataframe tbody tr th {\n",
       "        vertical-align: top;\n",
       "    }\n",
       "\n",
       "    .dataframe thead th {\n",
       "        text-align: right;\n",
       "    }\n",
       "</style>\n",
       "<table border=\"1\" class=\"dataframe\">\n",
       "  <thead>\n",
       "    <tr style=\"text-align: right;\">\n",
       "      <th></th>\n",
       "      <th>Country</th>\n",
       "      <th>City</th>\n",
       "      <th>AccentCity</th>\n",
       "      <th>Region</th>\n",
       "      <th>Population</th>\n",
       "      <th>Latitude</th>\n",
       "      <th>Longitude</th>\n",
       "    </tr>\n",
       "  </thead>\n",
       "  <tbody>\n",
       "    <tr>\n",
       "      <th>0</th>\n",
       "      <td>ad</td>\n",
       "      <td>aixas</td>\n",
       "      <td>Aixàs</td>\n",
       "      <td>6</td>\n",
       "      <td>NaN</td>\n",
       "      <td>42.483333</td>\n",
       "      <td>1.466667</td>\n",
       "    </tr>\n",
       "    <tr>\n",
       "      <th>1</th>\n",
       "      <td>ad</td>\n",
       "      <td>aixirivali</td>\n",
       "      <td>Aixirivali</td>\n",
       "      <td>6</td>\n",
       "      <td>NaN</td>\n",
       "      <td>42.466667</td>\n",
       "      <td>1.500000</td>\n",
       "    </tr>\n",
       "    <tr>\n",
       "      <th>2</th>\n",
       "      <td>ad</td>\n",
       "      <td>aixirivall</td>\n",
       "      <td>Aixirivall</td>\n",
       "      <td>6</td>\n",
       "      <td>NaN</td>\n",
       "      <td>42.466667</td>\n",
       "      <td>1.500000</td>\n",
       "    </tr>\n",
       "    <tr>\n",
       "      <th>3</th>\n",
       "      <td>ad</td>\n",
       "      <td>aixirvall</td>\n",
       "      <td>Aixirvall</td>\n",
       "      <td>6</td>\n",
       "      <td>NaN</td>\n",
       "      <td>42.466667</td>\n",
       "      <td>1.500000</td>\n",
       "    </tr>\n",
       "    <tr>\n",
       "      <th>4</th>\n",
       "      <td>ad</td>\n",
       "      <td>aixovall</td>\n",
       "      <td>Aixovall</td>\n",
       "      <td>6</td>\n",
       "      <td>NaN</td>\n",
       "      <td>42.466667</td>\n",
       "      <td>1.483333</td>\n",
       "    </tr>\n",
       "  </tbody>\n",
       "</table>\n",
       "</div>"
      ],
      "text/plain": [
       "  Country        City  AccentCity Region  Population   Latitude  Longitude\n",
       "0      ad       aixas       Aixàs      6         NaN  42.483333   1.466667\n",
       "1      ad  aixirivali  Aixirivali      6         NaN  42.466667   1.500000\n",
       "2      ad  aixirivall  Aixirivall      6         NaN  42.466667   1.500000\n",
       "3      ad   aixirvall   Aixirvall      6         NaN  42.466667   1.500000\n",
       "4      ad    aixovall    Aixovall      6         NaN  42.466667   1.483333"
      ]
     },
     "execution_count": 4,
     "metadata": {},
     "output_type": "execute_result"
    }
   ],
   "source": [
    "worldcitiespop.head(5)"
   ]
  },
  {
   "cell_type": "markdown",
   "id": "6d6874d3-16e0-470f-bf60-fe58c2e5552b",
   "metadata": {},
   "source": [
    "Filtrar los que son de US y GB"
   ]
  },
  {
   "cell_type": "code",
   "execution_count": 5,
   "id": "89080989-6e13-413f-a625-26d0e31a31ee",
   "metadata": {},
   "outputs": [],
   "source": [
    "us_cities = worldcitiespop[worldcitiespop.Country == 'us']"
   ]
  },
  {
   "cell_type": "code",
   "execution_count": 6,
   "id": "1c7e599f-d748-424c-af4e-69829f5f64f2",
   "metadata": {},
   "outputs": [],
   "source": [
    "gb_cities = worldcitiespop[worldcitiespop.Country == 'gb']"
   ]
  },
  {
   "cell_type": "code",
   "execution_count": 7,
   "id": "dde35c80-56ae-4ede-80dc-ae99613932c1",
   "metadata": {},
   "outputs": [
    {
     "data": {
      "text/plain": [
       "array(['AL', 'AK', 'AS', 'AZ', 'AR', 'CA', 'CO', 'CT', 'DE', 'DC', 'FL',\n",
       "       'GA', 'GU', 'HI', 'ID', 'IL', 'IN', 'IA', 'KS', 'KY', 'LA', 'ME',\n",
       "       'MH', 'MD', 'MA', 'MI', 'FM', 'MN', 'MS', 'MO', 'MT', 'NE', 'NV',\n",
       "       'NH', 'NJ', 'NM', 'NY', 'NC', 'ND', 'MP', 'OH', 'OK', 'OR', 'PW',\n",
       "       'PA', 'PR', 'RI', 'SC', 'SD', 'TN', 'TX', 'UT', 'VT', 'VI', 'VA',\n",
       "       'WA', 'WV', 'WI', 'WY'], dtype=object)"
      ]
     },
     "execution_count": 7,
     "metadata": {},
     "output_type": "execute_result"
    }
   ],
   "source": [
    "us_cities.Region.unique()"
   ]
  },
  {
   "cell_type": "markdown",
   "id": "d5cfa22e-080d-48b0-8d3e-9f02cb741797",
   "metadata": {},
   "source": [
    "Buscamos que estados pertenecen a la costa oeste y este"
   ]
  },
  {
   "cell_type": "markdown",
   "id": "60fdf17f-9262-477b-af89-58de9e375c51",
   "metadata": {},
   "source": [
    "West Coast\n",
    "\n",
    "Alaska AK\n",
    "California CA\n",
    "Hawaii HI\n",
    "Oregon OR\n",
    "Washington WA"
   ]
  },
  {
   "cell_type": "markdown",
   "id": "924865f8-5224-4db4-94fe-2f0c3fd1cc16",
   "metadata": {},
   "source": [
    "East Coast\n",
    "\n",
    "Maine ME\n",
    "New Hampshire NH\n",
    "Massachusetts MA\n",
    "Rhode Island RI\n",
    "Connecticut CT\n",
    "New York NY\n",
    "New Jersey NJ\n",
    "Delaware DE\n",
    "Maryland MD\n",
    "Virginia VA\n",
    "North Carolina NC\n",
    "South Carolina SC\n",
    "Georgia GA\n",
    "Florida FL"
   ]
  },
  {
   "cell_type": "code",
   "execution_count": 8,
   "id": "2cc66d46-8385-4064-bad2-06f3e1200915",
   "metadata": {},
   "outputs": [],
   "source": [
    "west_coast_states = ['AK', 'CA', 'HI', 'OR', 'WA']\n",
    "east_coast_states = ['ME', 'NH', 'MA', 'RI', 'CT', 'NY', 'NJ', 'DE', 'MD', 'VA', 'NC', 'SC', 'GA', 'FL']     \n",
    "coast_states = ['ME', 'NH', 'MA', 'RI', 'CT', 'NY', 'NJ', 'DE', 'MD', 'VA', 'NC', 'SC', 'GA', 'FL', 'AK', 'CA', 'HI', 'OR', 'WA']"
   ]
  },
  {
   "cell_type": "code",
   "execution_count": 9,
   "id": "285f3a0b-5bab-4943-a572-f7d4924261a8",
   "metadata": {},
   "outputs": [],
   "source": [
    "west_coast_cities = us_cities[us_cities.Region.isin(west_coast_states)]\n",
    "east_coast_cities = us_cities[us_cities.Region.isin(east_coast_states)]"
   ]
  },
  {
   "cell_type": "markdown",
   "id": "99ffbdb5-7a8c-4387-93dd-effe9b815de1",
   "metadata": {},
   "source": [
    "west_coast_cities['City_preprocessed'] = west_coast_cities['City'].str.replace('new ', '')\n",
    "east_coast_cities['City_preprocessed'] = east_coast_cities['City'].str.replace('new ', '')"
   ]
  },
  {
   "cell_type": "code",
   "execution_count": 10,
   "id": "2fc257bb-b0dc-429a-9f88-2c6fa34aeaaf",
   "metadata": {},
   "outputs": [],
   "source": [
    "west_coast_same_name = west_coast_cities[west_coast_cities.City.isin(gb_cities.City)]\n",
    "east_coast_same_name = east_coast_cities[east_coast_cities.City.isin(gb_cities.City)]"
   ]
  },
  {
   "cell_type": "code",
   "execution_count": 11,
   "id": "f988de08-603b-4aed-8e08-e458053f2e71",
   "metadata": {},
   "outputs": [
    {
     "data": {
      "text/plain": [
       "576"
      ]
     },
     "execution_count": 11,
     "metadata": {},
     "output_type": "execute_result"
    }
   ],
   "source": [
    "len(west_coast_same_name)"
   ]
  },
  {
   "cell_type": "code",
   "execution_count": 12,
   "id": "d8e72828-32d5-4ff4-b9b7-95c9e0704740",
   "metadata": {},
   "outputs": [
    {
     "data": {
      "text/plain": [
       "2761"
      ]
     },
     "execution_count": 12,
     "metadata": {},
     "output_type": "execute_result"
    }
   ],
   "source": [
    "len(east_coast_same_name)"
   ]
  },
  {
   "cell_type": "markdown",
   "id": "e00bb2e8-651b-45eb-b692-7ec9ca8bdc64",
   "metadata": {},
   "source": [
    "Se puede ver que hay muchas mas ciudades en la costa este con nombres igual a los de gb que en la costa oeste"
   ]
  },
  {
   "cell_type": "markdown",
   "id": "8dc4a59c-3d06-4da7-882f-dda2ee45b3a6",
   "metadata": {},
   "source": [
    "Pero para poder ver si realmente fue influenciado este numero, podriamos tomar la proporción con el total de ciudades en cada costa "
   ]
  },
  {
   "cell_type": "code",
   "execution_count": 13,
   "id": "8b1c286e-1e34-45af-b634-416997eea8fe",
   "metadata": {},
   "outputs": [
    {
     "data": {
      "text/plain": [
       "10260"
      ]
     },
     "execution_count": 13,
     "metadata": {},
     "output_type": "execute_result"
    }
   ],
   "source": [
    "len(west_coast_cities)"
   ]
  },
  {
   "cell_type": "code",
   "execution_count": 14,
   "id": "01a405a7-ad5a-4959-8acf-7e8531c5668e",
   "metadata": {},
   "outputs": [
    {
     "data": {
      "text/plain": [
       "46860"
      ]
     },
     "execution_count": 14,
     "metadata": {},
     "output_type": "execute_result"
    }
   ],
   "source": [
    "len(east_coast_cities)"
   ]
  },
  {
   "cell_type": "markdown",
   "id": "7cbc6a23-c2c3-40b2-928e-532dd54d4178",
   "metadata": {},
   "source": [
    "Proporción de ciudades con nombres iguales a los de GB"
   ]
  },
  {
   "cell_type": "markdown",
   "id": "1ccf604b-7708-4163-8836-af96e4ef4582",
   "metadata": {},
   "source": [
    "west coast"
   ]
  },
  {
   "cell_type": "code",
   "execution_count": 15,
   "id": "2a303bd7-89d9-4fd8-9368-4af293436e45",
   "metadata": {},
   "outputs": [
    {
     "data": {
      "text/plain": [
       "0.056140350877192984"
      ]
     },
     "execution_count": 15,
     "metadata": {},
     "output_type": "execute_result"
    }
   ],
   "source": [
    "len(west_coast_same_name)/len(west_coast_cities)"
   ]
  },
  {
   "cell_type": "markdown",
   "id": "78384126-4b3c-4b6a-89a7-5cfc1e6de4ae",
   "metadata": {},
   "source": [
    "east coast"
   ]
  },
  {
   "cell_type": "code",
   "execution_count": 16,
   "id": "fbc53ca6-1ff6-4128-a602-86d412140563",
   "metadata": {},
   "outputs": [
    {
     "data": {
      "text/plain": [
       "0.05892018779342723"
      ]
     },
     "execution_count": 16,
     "metadata": {},
     "output_type": "execute_result"
    }
   ],
   "source": [
    "len(east_coast_same_name)/len(east_coast_cities)"
   ]
  },
  {
   "cell_type": "markdown",
   "id": "208685e2-2712-40cf-bd55-015865fe303d",
   "metadata": {},
   "source": [
    "podríamos ver cual es la proporción considerando todas las ciudades"
   ]
  },
  {
   "cell_type": "code",
   "execution_count": 17,
   "id": "0f723722-8366-4ae4-b14e-11761a6f8602",
   "metadata": {},
   "outputs": [],
   "source": [
    "all_same_name_cities = us_cities[us_cities.City.isin(gb_cities.City)]"
   ]
  },
  {
   "cell_type": "code",
   "execution_count": 18,
   "id": "3111f88e-2ef9-4685-9363-590eec75181f",
   "metadata": {},
   "outputs": [
    {
     "data": {
      "text/plain": [
       "141989"
      ]
     },
     "execution_count": 18,
     "metadata": {},
     "output_type": "execute_result"
    }
   ],
   "source": [
    "len(us_cities)"
   ]
  },
  {
   "cell_type": "code",
   "execution_count": 19,
   "id": "9cd821d8-b208-4697-b183-e8ff799232b9",
   "metadata": {},
   "outputs": [
    {
     "data": {
      "text/plain": [
       "9535"
      ]
     },
     "execution_count": 19,
     "metadata": {},
     "output_type": "execute_result"
    }
   ],
   "source": [
    "len(all_same_name_cities)"
   ]
  },
  {
   "cell_type": "code",
   "execution_count": 20,
   "id": "2ac29f06-ed14-4f48-b47e-f56e9f33bcca",
   "metadata": {},
   "outputs": [
    {
     "data": {
      "text/plain": [
       "0.06715308932382086"
      ]
     },
     "execution_count": 20,
     "metadata": {},
     "output_type": "execute_result"
    }
   ],
   "source": [
    "len(all_same_name_cities)/len(us_cities)"
   ]
  },
  {
   "cell_type": "markdown",
   "id": "bc3e2795-7031-4cf0-a226-c170d66873c1",
   "metadata": {},
   "source": [
    "Asi que con esto, no podríamos asegurar que la costa este fue influenciada por gran bretaña"
   ]
  },
  {
   "cell_type": "markdown",
   "id": "623938d3-44ac-4dda-82fe-5f5f05f8b7d3",
   "metadata": {},
   "source": [
    "## Ahora limpiaremos los nombres de las ciudades, sacaremos las palabras que mas se repiten, porque claramente son acompañamientos nada mas"
   ]
  },
  {
   "cell_type": "code",
   "execution_count": 21,
   "id": "22d8d7a0-288a-4d77-952e-e99650179ecb",
   "metadata": {},
   "outputs": [],
   "source": [
    "from collections import Counter"
   ]
  },
  {
   "cell_type": "code",
   "execution_count": 22,
   "id": "bf4f8416-c75c-4075-9d7f-ad8662060f54",
   "metadata": {},
   "outputs": [],
   "source": [
    "list_us_cities = us_cities.City"
   ]
  },
  {
   "cell_type": "code",
   "execution_count": 23,
   "id": "2ac350d1-a366-40a9-9797-95db60aab91a",
   "metadata": {},
   "outputs": [],
   "source": [
    "list_gb_cities = gb_cities.City"
   ]
  },
  {
   "cell_type": "markdown",
   "id": "e7db9df8-5886-40ac-959d-a0b9d06c7214",
   "metadata": {
    "tags": []
   },
   "source": [
    "Counter(list_us_cities)"
   ]
  },
  {
   "cell_type": "code",
   "execution_count": 25,
   "id": "b91f89a5-d1a1-4aa9-a669-8ed4d286851f",
   "metadata": {
    "scrolled": true,
    "tags": []
   },
   "outputs": [],
   "source": [
    "words_in_us_cities = Counter([words for segments in list_us_cities for words in segments.split()])"
   ]
  },
  {
   "cell_type": "code",
   "execution_count": 26,
   "id": "099f04a2-7650-4fb2-afa2-cbdecd9f0d1d",
   "metadata": {},
   "outputs": [],
   "source": [
    "words_in_gb_cities = Counter([words for segments in list_gb_cities for words in segments.split()])"
   ]
  },
  {
   "cell_type": "markdown",
   "id": "c5751651-99e8-44ff-a306-42392bea93a4",
   "metadata": {
    "tags": []
   },
   "source": [
    "sorted(words_in_us_cities.items(), key=lambda x: x[1], reverse=True)\n"
   ]
  },
  {
   "cell_type": "markdown",
   "id": "44cd0f81-49e0-46aa-8f1a-f2376038ad72",
   "metadata": {
    "tags": []
   },
   "source": [
    "sorted(words_in_gb_cities.items(), key=lambda x: x[1], reverse=True)"
   ]
  },
  {
   "cell_type": "code",
   "execution_count": 29,
   "id": "2a16368c-52ee-45f1-9722-531fb40a9382",
   "metadata": {},
   "outputs": [],
   "source": [
    "words_in_us_df = pandas.DataFrame(sorted(words_in_us_cities.items(), key=lambda x: x[1], reverse=True))"
   ]
  },
  {
   "cell_type": "code",
   "execution_count": 30,
   "id": "1de429ca-ee32-4ddc-acfb-5bc5fbe79cf0",
   "metadata": {},
   "outputs": [],
   "source": [
    "words_in_gb_df = pandas.DataFrame(sorted(words_in_gb_cities.items(), key=lambda x: x[1], reverse=True))"
   ]
  },
  {
   "cell_type": "code",
   "execution_count": 31,
   "id": "542d8a2f-141e-4ab1-b188-97278b496cd7",
   "metadata": {},
   "outputs": [],
   "source": [
    "descartable_words_in_us = pandas.DataFrame(words_in_us_df[words_in_us_df[1]>=100][0])"
   ]
  },
  {
   "cell_type": "code",
   "execution_count": 32,
   "id": "cf5227fd-9108-42b8-bf79-bbe5287e7e6d",
   "metadata": {},
   "outputs": [],
   "source": [
    "descartable_words_in_gb = pandas.DataFrame(words_in_gb_df[words_in_gb_df[1]>=40][0])"
   ]
  },
  {
   "cell_type": "code",
   "execution_count": 33,
   "id": "1206934c-7b7e-4d7b-9d47-abb23ce5bc9d",
   "metadata": {},
   "outputs": [
    {
     "name": "stderr",
     "output_type": "stream",
     "text": [
      "/Users/g0d02rm/.pyenv/versions/3.6.8/envs/element-py3/lib/python3.6/site-packages/ipykernel_launcher.py:1: SettingWithCopyWarning: \n",
      "A value is trying to be set on a copy of a slice from a DataFrame.\n",
      "Try using .loc[row_indexer,col_indexer] = value instead\n",
      "\n",
      "See the caveats in the documentation: https://pandas.pydata.org/pandas-docs/stable/user_guide/indexing.html#returning-a-view-versus-a-copy\n",
      "  \"\"\"Entry point for launching an IPython kernel.\n"
     ]
    }
   ],
   "source": [
    "us_cities['City_cleaned'] = us_cities.City"
   ]
  },
  {
   "cell_type": "code",
   "execution_count": 34,
   "id": "735380d8-6359-4b69-ad3b-12cbf1a83e73",
   "metadata": {},
   "outputs": [
    {
     "name": "stderr",
     "output_type": "stream",
     "text": [
      "/Users/g0d02rm/.pyenv/versions/3.6.8/envs/element-py3/lib/python3.6/site-packages/ipykernel_launcher.py:1: SettingWithCopyWarning: \n",
      "A value is trying to be set on a copy of a slice from a DataFrame.\n",
      "Try using .loc[row_indexer,col_indexer] = value instead\n",
      "\n",
      "See the caveats in the documentation: https://pandas.pydata.org/pandas-docs/stable/user_guide/indexing.html#returning-a-view-versus-a-copy\n",
      "  \"\"\"Entry point for launching an IPython kernel.\n"
     ]
    }
   ],
   "source": [
    "gb_cities['City_cleaned'] = gb_cities.City"
   ]
  },
  {
   "cell_type": "code",
   "execution_count": 35,
   "id": "0492736f-865a-4f40-8ab5-1cd96fa3efbc",
   "metadata": {},
   "outputs": [
    {
     "name": "stderr",
     "output_type": "stream",
     "text": [
      "/Users/g0d02rm/.pyenv/versions/3.6.8/envs/element-py3/lib/python3.6/site-packages/ipykernel_launcher.py:2: SettingWithCopyWarning: \n",
      "A value is trying to be set on a copy of a slice from a DataFrame.\n",
      "Try using .loc[row_indexer,col_indexer] = value instead\n",
      "\n",
      "See the caveats in the documentation: https://pandas.pydata.org/pandas-docs/stable/user_guide/indexing.html#returning-a-view-versus-a-copy\n",
      "  \n"
     ]
    }
   ],
   "source": [
    "for word in descartable_words_in_us[0]:\n",
    "    us_cities['City_cleaned'] = us_cities.City_cleaned.str.replace(word, '')"
   ]
  },
  {
   "cell_type": "code",
   "execution_count": 36,
   "id": "6816ae14-ffcc-424b-b22f-bb30b5bac43a",
   "metadata": {},
   "outputs": [
    {
     "name": "stderr",
     "output_type": "stream",
     "text": [
      "/Users/g0d02rm/.pyenv/versions/3.6.8/envs/element-py3/lib/python3.6/site-packages/ipykernel_launcher.py:2: SettingWithCopyWarning: \n",
      "A value is trying to be set on a copy of a slice from a DataFrame.\n",
      "Try using .loc[row_indexer,col_indexer] = value instead\n",
      "\n",
      "See the caveats in the documentation: https://pandas.pydata.org/pandas-docs/stable/user_guide/indexing.html#returning-a-view-versus-a-copy\n",
      "  \n"
     ]
    }
   ],
   "source": [
    "for word in descartable_words_in_gb[0]:\n",
    "    gb_cities['City_cleaned'] = gb_cities.City_cleaned.str.replace(word, '')"
   ]
  },
  {
   "cell_type": "code",
   "execution_count": 37,
   "id": "2a706d32-113b-425a-80f3-f9b5dde804d4",
   "metadata": {},
   "outputs": [],
   "source": [
    "list_us_cities_cleaned = us_cities.City_cleaned"
   ]
  },
  {
   "cell_type": "code",
   "execution_count": 38,
   "id": "122654f1-a85c-4313-8af8-ad103d8b06b6",
   "metadata": {},
   "outputs": [],
   "source": [
    "words_in_us_cities_cleaned = Counter([words for segments in list_us_cities_cleaned for words in segments.split()])"
   ]
  },
  {
   "cell_type": "code",
   "execution_count": 39,
   "id": "7c993b50-8b9d-402d-9dd6-46c741a2206a",
   "metadata": {},
   "outputs": [],
   "source": [
    "west_coast_cities = us_cities[us_cities.Region.isin(west_coast_states)]\n",
    "east_coast_cities = us_cities[us_cities.Region.isin(east_coast_states)]"
   ]
  },
  {
   "cell_type": "code",
   "execution_count": 40,
   "id": "2dfc9758-0171-4511-95a3-ae1a0917dffb",
   "metadata": {},
   "outputs": [],
   "source": [
    "west_coast_like_name = west_coast_cities[west_coast_cities.City_cleaned.isin(gb_cities.City_cleaned)]\n",
    "east_coast_like_name = east_coast_cities[east_coast_cities.City_cleaned.isin(gb_cities.City_cleaned)]\n",
    "all_like_name_cities = us_cities[us_cities.City_cleaned.isin(gb_cities.City_cleaned)]"
   ]
  },
  {
   "cell_type": "markdown",
   "id": "672281cf-415c-41cf-b233-ea89fd806b6a",
   "metadata": {},
   "source": [
    "Proporciones para la costa oeste y este"
   ]
  },
  {
   "cell_type": "code",
   "execution_count": 41,
   "id": "04852c76-6f8b-483c-8128-20fb8298d476",
   "metadata": {},
   "outputs": [
    {
     "data": {
      "text/plain": [
       "0.1080896686159844"
      ]
     },
     "execution_count": 41,
     "metadata": {},
     "output_type": "execute_result"
    }
   ],
   "source": [
    "len(west_coast_like_name)/len(west_coast_cities)"
   ]
  },
  {
   "cell_type": "code",
   "execution_count": 42,
   "id": "2fa0b44b-7863-4fbd-96f4-de6aff32ce1b",
   "metadata": {},
   "outputs": [
    {
     "data": {
      "text/plain": [
       "0.12385830132309006"
      ]
     },
     "execution_count": 42,
     "metadata": {},
     "output_type": "execute_result"
    }
   ],
   "source": [
    "len(east_coast_like_name)/len(east_coast_cities)"
   ]
  },
  {
   "cell_type": "markdown",
   "id": "2e1cf23b-6090-4f50-9673-b4f141131e42",
   "metadata": {},
   "source": [
    "Los dos bloques de abajo son para verificar la creacion de all_like_name_cities"
   ]
  },
  {
   "cell_type": "code",
   "execution_count": 43,
   "id": "8cfddd6d-b5b9-4b25-9bf6-dccc998154a0",
   "metadata": {},
   "outputs": [
    {
     "data": {
      "text/plain": [
       "631"
      ]
     },
     "execution_count": 43,
     "metadata": {},
     "output_type": "execute_result"
    }
   ],
   "source": [
    "len(all_like_name_cities[all_like_name_cities.Region == 'NY'])"
   ]
  },
  {
   "cell_type": "code",
   "execution_count": 44,
   "id": "8a021ca5-1a62-48a5-8394-679d71e3f1d9",
   "metadata": {},
   "outputs": [
    {
     "data": {
      "text/plain": [
       "0.10815906753513885"
      ]
     },
     "execution_count": 44,
     "metadata": {},
     "output_type": "execute_result"
    }
   ],
   "source": [
    "len(all_like_name_cities[all_like_name_cities.Region == 'NY'])/len(us_cities[us_cities.Region == 'NY'])"
   ]
  },
  {
   "cell_type": "markdown",
   "id": "5e6ab0c0-7fa8-4b64-8922-24f61f5f205f",
   "metadata": {
    "tags": []
   },
   "source": [
    "all_like_name_cities.groupby(['Region']).count() / us_cities.groupby(['Region']).count() * 100"
   ]
  },
  {
   "cell_type": "code",
   "execution_count": 45,
   "id": "793265f8-2af1-4d78-8bb9-56b02523b8a5",
   "metadata": {},
   "outputs": [],
   "source": [
    "proportion_df = all_like_name_cities.groupby(['Region']).count() / us_cities.groupby(['Region']).count() * 100"
   ]
  },
  {
   "cell_type": "code",
   "execution_count": 49,
   "id": "d8f4d078-fe91-46a3-9534-764bfc6da466",
   "metadata": {},
   "outputs": [],
   "source": [
    "import plotly.graph_objs as go \n",
    "from plotly.offline import init_notebook_mode,iplot,plot"
   ]
  },
  {
   "cell_type": "code",
   "execution_count": 50,
   "id": "90281281-a4fc-42d2-b3d7-ec471b3b3b60",
   "metadata": {},
   "outputs": [],
   "source": [
    "data = dict(\n",
    "        type = 'choropleth',\n",
    "        colorscale = 'inferno',\n",
    "        reversescale = True,\n",
    "        locations = proportion_df.index,\n",
    "        locationmode = 'USA-states',\n",
    "        z = proportion_df.City_cleaned,\n",
    "        text = proportion_df.index,\n",
    "        colorbar = {'title' : 'Porcentaje'},\n",
    "      ) \n"
   ]
  },
  {
   "cell_type": "code",
   "execution_count": 51,
   "id": "4eb0cb39-1a6c-4404-853d-64981211e146",
   "metadata": {},
   "outputs": [],
   "source": [
    "layout = dict(title = 'Proporción de ciudades con nombres parecidos a los de Gran Bretaña',\n",
    "                geo = dict(showframe = False,projection = {'type':'mercator'})\n",
    "             )"
   ]
  },
  {
   "cell_type": "code",
   "execution_count": 52,
   "id": "9b5b2531-2ca6-4224-ae72-c1f8d4564d16",
   "metadata": {},
   "outputs": [
    {
     "data": {
      "text/plain": [
       "'temp-plot.html'"
      ]
     },
     "execution_count": 52,
     "metadata": {},
     "output_type": "execute_result"
    }
   ],
   "source": [
    "choromap = go.Figure(data = [data],layout = layout)\n",
    "plot(choromap,validate=False)"
   ]
  },
  {
   "cell_type": "code",
   "execution_count": 53,
   "id": "c5ed5c11-a6d7-42cd-854e-5f002b5020f9",
   "metadata": {},
   "outputs": [],
   "source": [
    "coast_proportion = proportion_df[proportion_df.index.isin(coast_states)]"
   ]
  },
  {
   "cell_type": "code",
   "execution_count": 54,
   "id": "652edf6d-64de-4e66-ba7a-99cc53501a02",
   "metadata": {},
   "outputs": [],
   "source": [
    "data_coast = dict(\n",
    "        type = 'choropleth',\n",
    "        colorscale = 'inferno',\n",
    "        reversescale = True,\n",
    "        locations = coast_proportion.index,\n",
    "        locationmode = 'USA-states',\n",
    "        z = coast_proportion.City_cleaned,\n",
    "        text = coast_proportion.index,\n",
    "        colorbar = {'title' : 'Porcentaje'},\n",
    "      ) "
   ]
  },
  {
   "cell_type": "code",
   "execution_count": 55,
   "id": "a04c1193-e3e3-46d6-817d-a7839c145f23",
   "metadata": {},
   "outputs": [],
   "source": [
    "layout = dict(title = 'Proporción de ciudades con nombres parecidos a los de Gran Bretaña',\n",
    "                geo = dict(showframe = False,projection = {'type':'mercator'})\n",
    "             )"
   ]
  },
  {
   "cell_type": "code",
   "execution_count": 56,
   "id": "df948c6e-4356-4dad-bd4e-d1ecfd74b5cb",
   "metadata": {},
   "outputs": [
    {
     "data": {
      "text/plain": [
       "'temp-plot.html'"
      ]
     },
     "execution_count": 56,
     "metadata": {},
     "output_type": "execute_result"
    }
   ],
   "source": [
    "choromap = go.Figure(data = [data_coast],layout = layout)\n",
    "plot(choromap,validate=False)"
   ]
  },
  {
   "cell_type": "code",
   "execution_count": null,
   "id": "82d5d32d-0a87-4e40-b27c-cdc4724d7cdb",
   "metadata": {},
   "outputs": [],
   "source": []
  }
 ],
 "metadata": {
  "kernelspec": {
   "display_name": "Python 3",
   "language": "python",
   "name": "python3"
  },
  "language_info": {
   "codemirror_mode": {
    "name": "ipython",
    "version": 3
   },
   "file_extension": ".py",
   "mimetype": "text/x-python",
   "name": "python",
   "nbconvert_exporter": "python",
   "pygments_lexer": "ipython3",
   "version": "3.6.8"
  }
 },
 "nbformat": 4,
 "nbformat_minor": 5
}
